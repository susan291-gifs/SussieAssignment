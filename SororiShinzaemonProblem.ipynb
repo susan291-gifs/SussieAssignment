{
  "nbformat": 4,
  "nbformat_minor": 0,
  "metadata": {
    "colab": {
      "provenance": [],
      "include_colab_link": true
    },
    "kernelspec": {
      "name": "python3",
      "display_name": "Python 3"
    },
    "language_info": {
      "name": "python"
    }
  },
  "cells": [
    {
      "cell_type": "markdown",
      "metadata": {
        "id": "view-in-github",
        "colab_type": "text"
      },
      "source": [
        "<a href=\"https://colab.research.google.com/github/susan291-gifs/SussieAssignment/blob/main/SororiShinzaemonProblem.ipynb\" target=\"_parent\"><img src=\"https://colab.research.google.com/assets/colab-badge.svg\" alt=\"Open In Colab\"/></a>"
      ]
    },
    {
      "cell_type": "markdown",
      "source": [],
      "metadata": {
        "id": "uq6VWhP_peb_"
      }
    },
    {
      "cell_type": "markdown",
      "source": [
        "Problem 1"
      ],
      "metadata": {
        "id": "kgLCBmfPpisv"
      }
    },
    {
      "cell_type": "code",
      "execution_count": null,
      "metadata": {
        "id": "zCJug2YunWtO"
      },
      "outputs": [],
      "source": [
        "grians = 1\n",
        "grian_per_day = []\n",
        "for i in range(100):\n",
        "  if i == 0:\n",
        "    grian_per_day.append(grians)\n",
        "  else:\n",
        "    grian_per_day.append((grians*2)**i)"
      ]
    },
    {
      "cell_type": "code",
      "source": [
        "print(\"The Total rice grians after 100 days: \", sum(grian_per_day))"
      ],
      "metadata": {
        "colab": {
          "base_uri": "https://localhost:8080/"
        },
        "id": "G6_A4rkIpl7i",
        "outputId": "89aa4dac-0dcb-4642-dd74-ae1e7dc8f5eb"
      },
      "execution_count": null,
      "outputs": [
        {
          "output_type": "stream",
          "name": "stdout",
          "text": [
            "The Total rice grians after 100 days:  1267650600228229401496703205375\n"
          ]
        }
      ]
    },
    {
      "cell_type": "code",
      "source": [
        "import matplotlib.pyplot as plt\n",
        "%matplotlib inline\n",
        "\n",
        "# Display the graph. Title and axis label name.\n",
        "plt.title(\"Total Number of Rice Grians\")\n",
        "plt.xlabel(\"number of Grains\")\n",
        "plt.ylabel(\"Number of Days\")\n",
        "plt.plot(grian_per_day)  # Enter the variable name of the list in \"List name\"\n",
        "plt.show()"
      ],
      "metadata": {
        "colab": {
          "base_uri": "https://localhost:8080/",
          "height": 472
        },
        "id": "jvRI7XB1qLTY",
        "outputId": "fcc54444-9945-4975-e2b0-6f93b58c3695"
      },
      "execution_count": null,
      "outputs": [
        {
          "output_type": "display_data",
          "data": {
            "text/plain": [
              "<Figure size 640x480 with 1 Axes>"
            ],
            "image/png": "[encoded data removed]"
          },
          "metadata": {}
        }
      ]
    },
    {
      "cell_type": "markdown",
      "source": [
        "Problem 2"
      ],
      "metadata": {
        "id": "im3bVPqSyQvp"
      }
    },
    {
      "cell_type": "code",
      "source": [
        "def compute_sorori_shinzaemon(n_days=100):\n",
        "  grians = 1\n",
        "  grian_per_day = []\n",
        "  for i in range(n_days):\n",
        "    if i == 0:\n",
        "      grian_per_day.append(grians)\n",
        "    else:\n",
        "      grian_per_day.append((grians*2)**i)\n",
        "  print(\"The Total rice grians after: \", sum(grian_per_day))"
      ],
      "metadata": {
        "id": "JyK2s2tpueAJ"
      },
      "execution_count": null,
      "outputs": []
    },
    {
      "cell_type": "code",
      "source": [
        "compute_sorori_shinzaemon(81)"
      ],
      "metadata": {
        "colab": {
          "base_uri": "https://localhost:8080/"
        },
        "id": "O4g6Bv7cx14j",
        "outputId": "d870c7d2-34e9-4175-a3a4-eaff846d1c46"
      },
      "execution_count": null,
      "outputs": [
        {
          "output_type": "stream",
          "name": "stdout",
          "text": [
            "The Total rice grians after:  2417851639229258349412351\n"
          ]
        }
      ]
    },
    {
      "cell_type": "code",
      "source": [
        "compute_sorori_shinzaemon(30)"
      ],
      "metadata": {
        "colab": {
          "base_uri": "https://localhost:8080/"
        },
        "id": "x6Dg2CKkyLTt",
        "outputId": "986eb223-6bb2-44bd-badb-dde4b96e09b9"
      },
      "execution_count": null,
      "outputs": [
        {
          "output_type": "stream",
          "name": "stdout",
          "text": [
            "The Total rice grians after:  1073741823\n"
          ]
        }
      ]
    },
    {
      "cell_type": "markdown",
      "source": [
        "Problem 3"
      ],
      "metadata": {
        "id": "ugBlgrH_6Gd2"
      }
    },
    {
      "cell_type": "code",
      "source": [
        "grians_in_bowl = 20000\n",
        "grian_per_day = grians_in_bowl*2\n",
        "\n",
        "def number_of_days(people, grians):\n",
        "  total_grians_per_days = people*grian_per_day\n",
        "  days = grians/total_grians_per_days\n",
        "  print(\"Number of days\", days)\n",
        "\n",
        "number_of_days(3,1000000000000000)"
      ],
      "metadata": {
        "colab": {
          "base_uri": "https://localhost:8080/"
        },
        "id": "TH7273OK3eku",
        "outputId": "f152bc10-777f-44ff-cc09-3cbca617cd2e"
      },
      "execution_count": null,
      "outputs": [
        {
          "output_type": "stream",
          "name": "stdout",
          "text": [
            "Number of days 8333333333.333333\n"
          ]
        }
      ]
    }
  ]
}
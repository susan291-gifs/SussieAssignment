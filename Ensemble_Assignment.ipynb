{
  "nbformat": 4,
  "nbformat_minor": 0,
  "metadata": {
    "colab": {
      "provenance": [],
      "include_colab_link": true
    },
    "kernelspec": {
      "name": "python3",
      "display_name": "Python 3"
    },
    "language_info": {
      "name": "python"
    }
  },
  "cells": [
    {
      "cell_type": "markdown",
      "metadata": {
        "id": "view-in-github",
        "colab_type": "text"
      },
      "source": [
        "<a href=\"https://colab.research.google.com/github/susan291-gifs/SussieAssignment/blob/main/Ensemble_Assignment.ipynb\" target=\"_parent\"><img src=\"https://colab.research.google.com/assets/colab-badge.svg\" alt=\"Open In Colab\"/></a>"
      ]
    },
    {
      "cell_type": "code",
      "source": [
        "import numpy as np\n",
        "import pandas as pd\n",
        "from sklearn.model_selection import train_test_split\n",
        "from sklearn.linear_model import LinearRegression\n",
        "from sklearn.metrics import mean_squared_error\n",
        "from sklearn.tree import DecisionTreeRegressor\n",
        "from sklearn.svm import SVR"
      ],
      "metadata": {
        "id": "R8x_Y1hXniQP"
      },
      "execution_count": null,
      "outputs": []
    },
    {
      "cell_type": "markdown",
      "source": [
        "###Problem 1"
      ],
      "metadata": {
        "id": "As5WhqnNosA4"
      }
    },
    {
      "cell_type": "code",
      "execution_count": null,
      "metadata": {
        "colab": {
          "base_uri": "https://localhost:8080/"
        },
        "id": "4HoswpewnXhx",
        "outputId": "c99c9aee-df5f-4e7a-d72c-681b822b00f3"
      },
      "outputs": [
        {
          "output_type": "stream",
          "name": "stdout",
          "text": [
            "Mean Squared Error (MSE) on validation data: 2418849078.3184934\n"
          ]
        }
      ],
      "source": [
        "data = pd.read_csv('/content/drive/MyDrive/Colab Notebooks/train.csv')\n",
        "X = data[['GrLivArea', 'YearBuilt']].values\n",
        "y = data['SalePrice'].values\n",
        "\n",
        "X_train, X_val, y_train, y_val = train_test_split(X, y, test_size=0.2, random_state=42)\n",
        "\n",
        "models = [LinearRegression(), LinearRegression(), LinearRegression()]\n",
        "\n",
        "subset_size = len(X_train) // len(models)\n",
        "for i, model in enumerate(models):\n",
        "    start_idx = i * subset_size\n",
        "    end_idx = start_idx + subset_size\n",
        "    model.fit(X_train[start_idx:end_idx], y_train[start_idx:end_idx])\n",
        "\n",
        "predictions = np.zeros((len(X_val), len(models)))\n",
        "for i, model in enumerate(models):\n",
        "    predictions[:, i] = model.predict(X_val)\n",
        "\n",
        "blending_model = LinearRegression()\n",
        "blending_model.fit(predictions, y_val)\n",
        "\n",
        "final_prediction = blending_model.predict(predictions)\n",
        "\n",
        "mse = mean_squared_error(y_val, final_prediction)\n",
        "print(\"Mean Squared Error (MSE) on validation data:\", mse)\n"
      ]
    },
    {
      "cell_type": "markdown",
      "source": [
        "###Problem 2"
      ],
      "metadata": {
        "id": "FVeEJ6jUo7Lm"
      }
    },
    {
      "cell_type": "code",
      "source": [
        "class BaggingRegressor:\n",
        "    def __init__(self, n_estimators):\n",
        "        self.n_estimators = n_estimators\n",
        "        self.models = []\n",
        "\n",
        "    def fit(self, X, y):\n",
        "        for _ in range(self.n_estimators):\n",
        "            model = DecisionTreeRegressor()\n",
        "            indices = np.random.choice(len(X), len(X), replace=True)\n",
        "            X_subset, y_subset = X[indices], y[indices]\n",
        "            model.fit(X_subset, y_subset)\n",
        "            self.models.append(model)\n",
        "\n",
        "    def predict(self, X):\n",
        "        predictions = np.zeros((X.shape[0], len(self.models)))\n",
        "        for i, model in enumerate(self.models):\n",
        "            predictions[:, i] = model.predict(X)\n",
        "        return np.mean(predictions, axis=1)\n",
        "\n",
        "\n",
        "data = pd.read_csv('/content/drive/MyDrive/Colab Notebooks/train.csv')\n",
        "X = data[['GrLivArea', 'YearBuilt']].values\n",
        "y = data['SalePrice'].values\n",
        "\n",
        "\n",
        "X_train, X_val, y_train, y_val = train_test_split(X, y, test_size=0.2, random_state=42)\n",
        "\n",
        "\n",
        "bagging_regressor = BaggingRegressor(n_estimators=10)\n",
        "bagging_regressor.fit(X_train, y_train)\n",
        "\n",
        "\n",
        "y_pred_bagging = bagging_regressor.predict(X_val)\n",
        "\n",
        "\n",
        "mse_bagging = mean_squared_error(y_val, y_pred_bagging)\n",
        "print(\"Mean Squared Error (MSE) using Bagging:\", mse_bagging)"
      ],
      "metadata": {
        "colab": {
          "base_uri": "https://localhost:8080/"
        },
        "id": "1IzkWw6OovUg",
        "outputId": "ef2f660f-1f4a-4937-8d84-8ac7327152b9"
      },
      "execution_count": null,
      "outputs": [
        {
          "output_type": "stream",
          "name": "stdout",
          "text": [
            "Mean Squared Error (MSE) using Bagging: 1683433222.9288468\n"
          ]
        }
      ]
    },
    {
      "cell_type": "markdown",
      "source": [
        "###Problem 3"
      ],
      "metadata": {
        "id": "VGOEkRQnpzh-"
      }
    },
    {
      "cell_type": "code",
      "source": [
        "class StackingRegressor:\n",
        "    def __init__(self, base_models, meta_model):\n",
        "        self.base_models = base_models\n",
        "        self.meta_model = meta_model\n",
        "\n",
        "    def fit(self, X, y):\n",
        "        self.meta_features = np.zeros((len(X), len(self.base_models)))\n",
        "        for i, model in enumerate(self.base_models):\n",
        "            model.fit(X, y)\n",
        "            self.meta_features[:, i] = model.predict(X)\n",
        "        self.meta_model.fit(self.meta_features, y)\n",
        "\n",
        "    def predict(self, X):\n",
        "        meta_features = np.zeros((len(X), len(self.base_models)))\n",
        "        for i, model in enumerate(self.base_models):\n",
        "            meta_features[:, i] = model.predict(X)\n",
        "        return self.meta_model.predict(meta_features)\n",
        "\n",
        "data = pd.read_csv('/content/drive/MyDrive/Colab Notebooks/train.csv')\n",
        "X = data[['GrLivArea', 'YearBuilt']].values\n",
        "y = data['SalePrice'].values\n",
        "\n",
        "X_train, X_val, y_train, y_val = train_test_split(X, y, test_size=0.2, random_state=42)\n",
        "\n",
        "base_models = [DecisionTreeRegressor(), SVR(), LinearRegression()]\n",
        "\n",
        "meta_model = LinearRegression()\n",
        "\n",
        "stacking_regressor = StackingRegressor(base_models, meta_model)\n",
        "stacking_regressor.fit(X_train, y_train)\n",
        "\n",
        "y_pred_stacking = stacking_regressor.predict(X_val)\n",
        "\n",
        "\n",
        "mse_stacking = mean_squared_error(y_val, y_pred_stacking)\n",
        "print(\"Mean Squared Error (MSE) using Stacking:\", mse_stacking)"
      ],
      "metadata": {
        "colab": {
          "base_uri": "https://localhost:8080/"
        },
        "id": "hGsgkGZDpvSf",
        "outputId": "627ffa90-1edf-4296-b098-4823875e6b0f"
      },
      "execution_count": null,
      "outputs": [
        {
          "output_type": "stream",
          "name": "stdout",
          "text": [
            "Mean Squared Error (MSE) using Stacking: 2077433603.7752101\n"
          ]
        }
      ]
    }
  ]
}
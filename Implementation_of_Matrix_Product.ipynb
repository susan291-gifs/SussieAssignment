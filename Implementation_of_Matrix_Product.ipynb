{
  "nbformat": 4,
  "nbformat_minor": 0,
  "metadata": {
    "colab": {
      "provenance": [],
      "include_colab_link": true
    },
    "kernelspec": {
      "name": "python3",
      "display_name": "Python 3"
    },
    "language_info": {
      "name": "python"
    }
  },
  "cells": [
    {
      "cell_type": "markdown",
      "metadata": {
        "id": "view-in-github",
        "colab_type": "text"
      },
      "source": [
        "<a href=\"https://colab.research.google.com/github/susan291-gifs/SussieAssignment/blob/main/Implementation_of_Matrix_Product.ipynb\" target=\"_parent\"><img src=\"https://colab.research.google.com/assets/colab-badge.svg\" alt=\"Open In Colab\"/></a>"
      ]
    },
    {
      "cell_type": "markdown",
      "source": [
        "Problem 1:\n",
        "\n",
        "To perform matrix multiplication, you take the dot product of each row of the first matrix with each column of the second matrix. Let's say we have two matrices A and B:\n",
        "A = [[1,2], [3,4]]\n",
        "B = [[5,6], [7,8]]\n",
        "C = [[c1, c2], [c3, c4]]\n",
        "\n",
        "c1 = (1.5) + (2.7) = 5 + 14 = 19\n",
        "c2 = (1.6) + (2.8) = 6 + 16 = 22\n",
        "c3 = (3.5) + (4.7) = 15 + 28 = 43\n",
        "c4 = (3.6) + (4.8) = 18 + 32 = 50\n",
        "\n",
        "So, the result of the matrix multiplication A X B is:\n",
        "C = [[19, 22], [43, 50]]"
      ],
      "metadata": {
        "id": "rId3vp0UnFuf"
      }
    },
    {
      "cell_type": "markdown",
      "source": [
        "Problem 2"
      ],
      "metadata": {
        "id": "HH2jFUtwyOfb"
      }
    },
    {
      "cell_type": "code",
      "execution_count": null,
      "metadata": {
        "colab": {
          "base_uri": "https://localhost:8080/"
        },
        "id": "24pkUJNNmSEk",
        "outputId": "9090c8b0-208a-4015-dc0e-a5948eaf1aa8"
      },
      "outputs": [
        {
          "output_type": "stream",
          "name": "stdout",
          "text": [
            "Result using np.matmul():\n",
            "[[19 22]\n",
            " [43 50]]\n",
            "\n",
            "Result using np.dot():\n",
            "[[19 22]\n",
            " [43 50]]\n",
            "\n",
            "Result using @ operator:\n",
            "[[19 22]\n",
            " [43 50]]\n"
          ]
        }
      ],
      "source": [
        "import numpy as np\n",
        "\n",
        "\n",
        "A = np.array([[1, 2], [3, 4]])\n",
        "B = np.array([[5, 6], [7, 8]])\n",
        "\n",
        "\n",
        "C_matmul = np.matmul(A, B)\n",
        "\n",
        "C_dot = np.dot(A, B)\n",
        "\n",
        "\n",
        "C_at_operator = A @ B\n",
        "\n",
        "\n",
        "print(\"Result using np.matmul():\")\n",
        "print(C_matmul)\n",
        "\n",
        "print(\"\\nResult using np.dot():\")\n",
        "print(C_dot)\n",
        "\n",
        "print(\"\\nResult using @ operator:\")\n",
        "print(C_at_operator)"
      ]
    },
    {
      "cell_type": "markdown",
      "source": [
        "Problem 3"
      ],
      "metadata": {
        "id": "b-6NyqWXz0CI"
      }
    },
    {
      "cell_type": "code",
      "source": [
        "import numpy as np\n",
        "\n",
        "\n",
        "A = np.array([[1, 2, 3], [4, 5, 6]])\n",
        "B = np.array([[7, 8], [9, 10], [11, 12]])\n",
        "\n",
        "\n",
        "rows_A, cols_A = A.shape\n",
        "rows_B, cols_B = B.shape\n",
        "\n",
        "\n",
        "C = np.zeros((rows_A, cols_B))\n",
        "\n",
        "\n",
        "for k in range(cols_A):\n",
        "    C[0, 0] += A[0, k] * B[k, 0]\n",
        "\n",
        "\n",
        "print(\"Result at (0, 0):\", C[0, 0])\n"
      ],
      "metadata": {
        "colab": {
          "base_uri": "https://localhost:8080/"
        },
        "id": "f6_i3Z49zidN",
        "outputId": "f25c451a-9b52-4481-b01c-6a5c07552934"
      },
      "execution_count": null,
      "outputs": [
        {
          "output_type": "stream",
          "name": "stdout",
          "text": [
            "Result at (0, 0): 58.0\n"
          ]
        }
      ]
    },
    {
      "cell_type": "markdown",
      "source": [
        "Problem 4"
      ],
      "metadata": {
        "id": "Qv5BjJnQ4Bzr"
      }
    },
    {
      "cell_type": "code",
      "source": [
        "import numpy as np\n",
        "\n",
        "def matrix_multiply(A,B):\n",
        "  rows_A, cols_A = A.shape\n",
        "  rows_B, cols_B = B.shape\n",
        "\n",
        "  if rows_A != cols_B:\n",
        "    raise ValueError(\"Cannot be multiply for matrix\")\n",
        "\n",
        "  C = np.zeros((rows_A, cols_B))\n",
        "\n",
        "  for i in range(rows_A):\n",
        "    for j in range(cols_B):\n",
        "      for k in range(cols_A):\n",
        "        C[i, j] += A[i, k] * B[k, j]\n",
        "\n",
        "  return C\n",
        "\n",
        "A = np.array([[1, 2, 3], [4, 5, 6]])\n",
        "B = np.array([[7, 8], [9, 10], [11, 12]])\n",
        "\n",
        "\n",
        "result = matrix_multiply(A, B)\n",
        "\n",
        "\n",
        "print(\"Matrix A:\")\n",
        "print(A)\n",
        "print(\"\\nMatrix B:\")\n",
        "print(B)\n",
        "print(\"\\nMatrix Product (C):\")\n",
        "print(result)"
      ],
      "metadata": {
        "colab": {
          "base_uri": "https://localhost:8080/"
        },
        "id": "A3rQ_pV807y6",
        "outputId": "945297cd-46c8-449c-cc6f-ee2b47d43d09"
      },
      "execution_count": null,
      "outputs": [
        {
          "output_type": "stream",
          "name": "stdout",
          "text": [
            "Matrix A:\n",
            "[[1 2 3]\n",
            " [4 5 6]]\n",
            "\n",
            "Matrix B:\n",
            "[[ 7  8]\n",
            " [ 9 10]\n",
            " [11 12]]\n",
            "\n",
            "Matrix Product (C):\n",
            "[[ 58.  64.]\n",
            " [139. 154.]]\n"
          ]
        }
      ]
    },
    {
      "cell_type": "markdown",
      "source": [
        "Problem 5"
      ],
      "metadata": {
        "id": "L-9o6f4x4rff"
      }
    },
    {
      "cell_type": "code",
      "source": [
        "\n",
        "A = np.array([[1, 2, 3], [4, 5, 6]])\n",
        "B = np.array([[7, 8], [9, 10], [11, 12]])\n",
        "D = np.array([[1, 2], [3, 4]])\n",
        "E = np.array([[5, 6, 7], [8, 9, 10]])\n",
        "\n",
        "try:\n",
        "\n",
        "    result = matrix_multiply(A, B)\n",
        "    print(\"Matrix Product (A * B):\")\n",
        "    print(result)\n",
        "\n",
        "\n",
        "    result_invalid = matrix_multiply(D, E)\n",
        "\n",
        "except ValueError as e:\n",
        "    print(f\"Error: {e}\")"
      ],
      "metadata": {
        "colab": {
          "base_uri": "https://localhost:8080/"
        },
        "id": "qf5XoV4e4jhe",
        "outputId": "9a7295e4-a935-4137-ed73-0767e38f8175"
      },
      "execution_count": null,
      "outputs": [
        {
          "output_type": "stream",
          "name": "stdout",
          "text": [
            "Matrix Product (A * B):\n",
            "[[ 58.  64.]\n",
            " [139. 154.]]\n",
            "Error: Cannot be multiply for matrix\n"
          ]
        }
      ]
    },
    {
      "cell_type": "code",
      "source": [
        "import numpy as np\n",
        "\n",
        "def matrix_multiply(A, B):\n",
        "\n",
        "    rows_A, cols_A = A.shape\n",
        "    rows_B, cols_B = B.shape\n",
        "\n",
        "\n",
        "    if cols_A != rows_B:\n",
        "        raise ValueError(\"Incompatible shapes for matrix multiplication. \"\n",
        "                         f\"Number of columns in A ({cols_A}) must be equal to the number of rows in B ({rows_B}).\")\n",
        "\n",
        "\n",
        "    C = np.zeros((rows_A, cols_B))\n",
        "\n",
        "\n",
        "    for i in range(rows_A):\n",
        "        for j in range(cols_B):\n",
        "            for k in range(cols_A):\n",
        "                C[i, j] += A[i, k] * B[k, j]\n",
        "\n",
        "    return C\n",
        "\n",
        "A = np.array([[1, 2, 3], [4, 5, 6]])\n",
        "B = np.array([[7, 8], [9, 10], [11, 12]])\n",
        "\n",
        "try:\n",
        "\n",
        "    result = matrix_multiply(A, B)\n",
        "    print(\"Matrix Product (A * B):\")\n",
        "    print(result)\n",
        "\n",
        "\n",
        "    B_transposed = np.transpose(B)\n",
        "    result_transposed = matrix_multiply(A, B_transposed)\n",
        "    print(\"\\nMatrix Product (A * Transpose(B)):\")\n",
        "    print(result_transposed)\n",
        "\n",
        "except ValueError as e:\n",
        "    print(f\"Error: {e}\")"
      ],
      "metadata": {
        "colab": {
          "base_uri": "https://localhost:8080/"
        },
        "id": "voLPnXMB5H9y",
        "outputId": "633a9f58-1a4d-45a1-d471-5a25cfba8c3f"
      },
      "execution_count": null,
      "outputs": [
        {
          "output_type": "stream",
          "name": "stdout",
          "text": [
            "Matrix Product (A * B):\n",
            "[[ 58.  64.]\n",
            " [139. 154.]]\n",
            "Error: Incompatible shapes for matrix multiplication. Number of columns in A (3) must be equal to the number of rows in B (2).\n"
          ]
        }
      ]
    }
  ]
}
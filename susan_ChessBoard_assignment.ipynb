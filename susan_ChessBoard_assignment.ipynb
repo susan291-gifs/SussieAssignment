{
  "nbformat": 4,
  "nbformat_minor": 0,
  "metadata": {
    "colab": {
      "provenance": [],
      "include_colab_link": true
    },
    "kernelspec": {
      "name": "python3",
      "display_name": "Python 3"
    },
    "language_info": {
      "name": "python"
    }
  },
  "cells": [
    {
      "cell_type": "markdown",
      "metadata": {
        "id": "view-in-github",
        "colab_type": "text"
      },
      "source": [
        "<a href=\"https://colab.research.google.com/github/susan291-gifs/SussieAssignment/blob/main/susan_ChessBoard_assignment.ipynb\" target=\"_parent\"><img src=\"https://colab.research.google.com/assets/colab-badge.svg\" alt=\"Open In Colab\"/></a>"
      ]
    },
    {
      "cell_type": "code",
      "execution_count": null,
      "metadata": {
        "colab": {
          "base_uri": "https://localhost:8080/"
        },
        "id": "uq83YNaLUPmh",
        "outputId": "73f2fdba-3803-4040-c877-6af2eeadd316"
      },
      "outputs": [
        {
          "output_type": "stream",
          "name": "stdout",
          "text": [
            "Arrange wheat on a plate of 4 squares (list)：[1, 2, 4, 8]\n"
          ]
        }
      ],
      "source": [
        "n_squares = 4\n",
        "small_board_list = [1]\n",
        "for _ in range(n_squares - 1):\n",
        "    small_board_list.append(2*small_board_list[-1])\n",
        "print(\"Arrange wheat on a plate of 4 squares (list)：{}\".format(small_board_list))"
      ]
    },
    {
      "cell_type": "code",
      "source": [
        "import numpy as np\n",
        "\n",
        "small_board_ndarray = np.array(small_board_list)\n",
        "print(\"Arrange wheat on a plate of 4 squares (ndarray)：{}\".format(small_board_ndarray))"
      ],
      "metadata": {
        "id": "AUNx8abFWG9Q",
        "outputId": "c5a67b41-16d3-4f72-ea49-b0278511cb1a",
        "colab": {
          "base_uri": "https://localhost:8080/"
        }
      },
      "execution_count": null,
      "outputs": [
        {
          "output_type": "stream",
          "name": "stdout",
          "text": [
            "Arrange wheat on a plate of 4 squares (ndarray)：[1 2 4 8]\n"
          ]
        }
      ]
    },
    {
      "cell_type": "markdown",
      "source": [
        "Problem 1"
      ],
      "metadata": {
        "id": "gRmYiLUKZodB"
      }
    },
    {
      "cell_type": "code",
      "source": [
        "import numpy as np\n",
        "\n",
        "n_squares = 4\n",
        "small_board_list = [1]\n",
        "for _ in range(n_squares - 1):\n",
        "    small_board_list.append(2*small_board_list[-1])\n",
        "small_board_ndarray = np.array(small_board_list).reshape(2,2)\n",
        "print(\"Arrange wheat on a 2x2 chessboard (ndarray)：\\n{}\".format(small_board_ndarray))"
      ],
      "metadata": {
        "colab": {
          "base_uri": "https://localhost:8080/"
        },
        "id": "P_MKAiBaYqVx",
        "outputId": "9f1965e8-c7c1-496a-a650-9cac502fcbee"
      },
      "execution_count": null,
      "outputs": [
        {
          "output_type": "stream",
          "name": "stdout",
          "text": [
            "Arrange wheat on a 2x2 chessboard (ndarray)：\n",
            "[[1 2]\n",
            " [4 8]]\n"
          ]
        }
      ]
    },
    {
      "cell_type": "markdown",
      "source": [
        "Problem 2"
      ],
      "metadata": {
        "id": "xLxdV9jlUI5S"
      }
    },
    {
      "cell_type": "code",
      "source": [
        "import numpy as np\n",
        "\n",
        "def calculate_wheat_on_chessboard(n, m):\n",
        "    total_squares = n*m\n",
        "    board_list = [1]\n",
        "\n",
        "    for _ in range(total_squares - 1):\n",
        "        board_list.append(2 * board_list[-1])\n",
        "\n",
        "    board_ndarray = np.array(board_list).reshape(n, m)\n",
        "    return board_ndarray\n",
        "\n",
        "result_board = calculate_wheat_on_chessboard(8,8)\n",
        "print(\"Arrange wheat on an 8x8 chessboard (ndarray):\\n{}\".format(result_board))"
      ],
      "metadata": {
        "colab": {
          "base_uri": "https://localhost:8080/"
        },
        "id": "7j_zoGY8ax9s",
        "outputId": "77c07e18-d858-4ac8-ef63-131e7fa243db"
      },
      "execution_count": null,
      "outputs": [
        {
          "output_type": "stream",
          "name": "stdout",
          "text": [
            "Arrange wheat on an 8x8 chessboard (ndarray):\n",
            "[[1.00000000e+00 2.00000000e+00 4.00000000e+00 8.00000000e+00\n",
            "  1.60000000e+01 3.20000000e+01 6.40000000e+01 1.28000000e+02]\n",
            " [2.56000000e+02 5.12000000e+02 1.02400000e+03 2.04800000e+03\n",
            "  4.09600000e+03 8.19200000e+03 1.63840000e+04 3.27680000e+04]\n",
            " [6.55360000e+04 1.31072000e+05 2.62144000e+05 5.24288000e+05\n",
            "  1.04857600e+06 2.09715200e+06 4.19430400e+06 8.38860800e+06]\n",
            " [1.67772160e+07 3.35544320e+07 6.71088640e+07 1.34217728e+08\n",
            "  2.68435456e+08 5.36870912e+08 1.07374182e+09 2.14748365e+09]\n",
            " [4.29496730e+09 8.58993459e+09 1.71798692e+10 3.43597384e+10\n",
            "  6.87194767e+10 1.37438953e+11 2.74877907e+11 5.49755814e+11]\n",
            " [1.09951163e+12 2.19902326e+12 4.39804651e+12 8.79609302e+12\n",
            "  1.75921860e+13 3.51843721e+13 7.03687442e+13 1.40737488e+14]\n",
            " [2.81474977e+14 5.62949953e+14 1.12589991e+15 2.25179981e+15\n",
            "  4.50359963e+15 9.00719925e+15 1.80143985e+16 3.60287970e+16]\n",
            " [7.20575940e+16 1.44115188e+17 2.88230376e+17 5.76460752e+17\n",
            "  1.15292150e+18 2.30584301e+18 4.61168602e+18 9.22337204e+18]]\n"
          ]
        }
      ]
    },
    {
      "cell_type": "markdown",
      "source": [
        "Problem 3"
      ],
      "metadata": {
        "id": "cBojV7f9kjvR"
      }
    },
    {
      "cell_type": "code",
      "source": [
        "import numpy as np\n",
        "import matplotlib.pyplot as plt\n",
        "\n",
        "def calculate_wheat_on_chessboard(n, m):\n",
        "    total_squares = n * m\n",
        "    board_list = [1]\n",
        "\n",
        "    for _ in range(total_squares - 1):\n",
        "        board_list.append(2 * board_list[-1])\n",
        "\n",
        "    board_ndarray = np.array(board_list).reshape(n, m)\n",
        "    return board_ndarray\n",
        "\n",
        "def visualize_average_in_columns(board):\n",
        "    averages = np.mean(board, axis=0)\n",
        "\n",
        "    plt.xlabel(\"Column\")\n",
        "    plt.ylabel(\"Average Number\")\n",
        "    plt.title(\"Average Number of Wheat in Each Column\")\n",
        "    plt.bar(np.arange(1, board.shape[1] + 1), averages)\n",
        "    plt.show()\n",
        "\n",
        "result_board = calculate_wheat_on_chessboard(8, 8)\n",
        "print(\"Arrange wheat on an 8x8 chessboard (ndarray):\\n{}\".format(result_board))\n",
        "\n",
        "visualize_average_in_columns(result_board)\n"
      ],
      "metadata": {
        "colab": {
          "base_uri": "https://localhost:8080/",
          "height": 784
        },
        "id": "R3p_9zZnUNNE",
        "outputId": "d05b1695-cbe9-45f0-e8e1-46ce06bde950"
      },
      "execution_count": null,
      "outputs": [
        {
          "output_type": "stream",
          "name": "stdout",
          "text": [
            "Arrange wheat on an 8x8 chessboard (ndarray):\n",
            "[[1.00000000e+00 2.00000000e+00 4.00000000e+00 8.00000000e+00\n",
            "  1.60000000e+01 3.20000000e+01 6.40000000e+01 1.28000000e+02]\n",
            " [2.56000000e+02 5.12000000e+02 1.02400000e+03 2.04800000e+03\n",
            "  4.09600000e+03 8.19200000e+03 1.63840000e+04 3.27680000e+04]\n",
            " [6.55360000e+04 1.31072000e+05 2.62144000e+05 5.24288000e+05\n",
            "  1.04857600e+06 2.09715200e+06 4.19430400e+06 8.38860800e+06]\n",
            " [1.67772160e+07 3.35544320e+07 6.71088640e+07 1.34217728e+08\n",
            "  2.68435456e+08 5.36870912e+08 1.07374182e+09 2.14748365e+09]\n",
            " [4.29496730e+09 8.58993459e+09 1.71798692e+10 3.43597384e+10\n",
            "  6.87194767e+10 1.37438953e+11 2.74877907e+11 5.49755814e+11]\n",
            " [1.09951163e+12 2.19902326e+12 4.39804651e+12 8.79609302e+12\n",
            "  1.75921860e+13 3.51843721e+13 7.03687442e+13 1.40737488e+14]\n",
            " [2.81474977e+14 5.62949953e+14 1.12589991e+15 2.25179981e+15\n",
            "  4.50359963e+15 9.00719925e+15 1.80143985e+16 3.60287970e+16]\n",
            " [7.20575940e+16 1.44115188e+17 2.88230376e+17 5.76460752e+17\n",
            "  1.15292150e+18 2.30584301e+18 4.61168602e+18 9.22337204e+18]]\n"
          ]
        },
        {
          "output_type": "display_data",
          "data": {
            "text/plain": [
              "<Figure size 640x480 with 1 Axes>"
            ],
            "image/png": "[encoded data removed]"
          },
          "metadata": {}
        }
      ]
    },
    {
      "cell_type": "markdown",
      "source": [
        "Problem 4"
      ],
      "metadata": {
        "id": "EnDUUqrvkwhH"
      }
    },
    {
      "cell_type": "code",
      "source": [
        "import numpy as np\n",
        "import matplotlib.pyplot as plt\n",
        "\n",
        "def calculate_wheat_on_chessboard(n, m):\n",
        "    total_squares = n * m\n",
        "    board_list = [1]\n",
        "\n",
        "    for _ in range(total_squares - 1):\n",
        "        board_list.append(2 * board_list[-1])\n",
        "\n",
        "    board_ndarray = np.array(board_list).reshape(n, m)\n",
        "    return board_ndarray\n",
        "\n",
        "def visualize_heatmap(board):\n",
        "    plt.xlabel(\"Column\")\n",
        "    plt.ylabel(\"Row\")\n",
        "    plt.title(\"Heatmap of Wheat on 8x8 Chessboard\")\n",
        "    plt.pcolor(board)\n",
        "    plt.colorbar(label=\"Number of Wheat\")\n",
        "    plt.show()\n",
        "\n",
        "result_board = calculate_wheat_on_chessboard(8, 8)\n",
        "print(\"Arrange wheat on an 8x8 chessboard (ndarray):\\n{}\".format(result_board))\n",
        "\n",
        "visualize_heatmap(result_board)"
      ],
      "metadata": {
        "colab": {
          "base_uri": "https://localhost:8080/",
          "height": 784
        },
        "id": "IMDc2P9Dkmg_",
        "outputId": "97d90efc-f714-47ee-9028-ca3a78ef9384"
      },
      "execution_count": null,
      "outputs": [
        {
          "output_type": "stream",
          "name": "stdout",
          "text": [
            "Arrange wheat on an 8x8 chessboard (ndarray):\n",
            "[[1.00000000e+00 2.00000000e+00 4.00000000e+00 8.00000000e+00\n",
            "  1.60000000e+01 3.20000000e+01 6.40000000e+01 1.28000000e+02]\n",
            " [2.56000000e+02 5.12000000e+02 1.02400000e+03 2.04800000e+03\n",
            "  4.09600000e+03 8.19200000e+03 1.63840000e+04 3.27680000e+04]\n",
            " [6.55360000e+04 1.31072000e+05 2.62144000e+05 5.24288000e+05\n",
            "  1.04857600e+06 2.09715200e+06 4.19430400e+06 8.38860800e+06]\n",
            " [1.67772160e+07 3.35544320e+07 6.71088640e+07 1.34217728e+08\n",
            "  2.68435456e+08 5.36870912e+08 1.07374182e+09 2.14748365e+09]\n",
            " [4.29496730e+09 8.58993459e+09 1.71798692e+10 3.43597384e+10\n",
            "  6.87194767e+10 1.37438953e+11 2.74877907e+11 5.49755814e+11]\n",
            " [1.09951163e+12 2.19902326e+12 4.39804651e+12 8.79609302e+12\n",
            "  1.75921860e+13 3.51843721e+13 7.03687442e+13 1.40737488e+14]\n",
            " [2.81474977e+14 5.62949953e+14 1.12589991e+15 2.25179981e+15\n",
            "  4.50359963e+15 9.00719925e+15 1.80143985e+16 3.60287970e+16]\n",
            " [7.20575940e+16 1.44115188e+17 2.88230376e+17 5.76460752e+17\n",
            "  1.15292150e+18 2.30584301e+18 4.61168602e+18 9.22337204e+18]]\n"
          ]
        },
        {
          "output_type": "display_data",
          "data": {
            "text/plain": [
              "<Figure size 640x480 with 2 Axes>"
            ],
            "image/png": "[encoded data removed]"
          },
          "metadata": {}
        }
      ]
    },
    {
      "cell_type": "markdown",
      "source": [
        "Probelm 5"
      ],
      "metadata": {
        "id": "J2liBaYHoAtM"
      }
    },
    {
      "cell_type": "code",
      "source": [
        "import numpy as np\n",
        "import matplotlib.pyplot as plt\n",
        "\n",
        "def calculate_wheat_on_chessboard(n, m):\n",
        "    total_squares = n * m\n",
        "    board_list = [1]\n",
        "\n",
        "    for _ in range(total_squares - 1):\n",
        "        board_list.append(2 * board_list[-1])\n",
        "\n",
        "    board_ndarray = np.array(board_list).reshape(n, m)\n",
        "    return board_ndarray\n",
        "\n",
        "\n",
        "def compare_first_and_second_half(board):\n",
        "    first_half_sum = np.sum(board[:4,:])\n",
        "    second_half_sum = np.sum(board[4:,:])\n",
        "\n",
        "    calculate_times_greater_than = second_half_sum / first_half_sum\n",
        "    return calculate_times_greater_than\n",
        "\n",
        "result_board = calculate_wheat_on_chessboard(8, 8)\n",
        "print(\"Arrange wheat on an 8x8 chessboard (ndarray):\\n{}\".format(result_board))\n",
        "\n",
        "calculate_times_greater_than = compare_first_and_second_half(result_board)\n",
        "print(\"The second half is {} times greater than the first half.\".format(calculate_times_greater_than))"
      ],
      "metadata": {
        "colab": {
          "base_uri": "https://localhost:8080/"
        },
        "id": "XvEBkLIxl8C9",
        "outputId": "72b334fd-818c-425b-985e-b698ac8dfd35"
      },
      "execution_count": null,
      "outputs": [
        {
          "output_type": "stream",
          "name": "stdout",
          "text": [
            "Arrange wheat on an 8x8 chessboard (ndarray):\n",
            "[[1.00000000e+00 2.00000000e+00 4.00000000e+00 8.00000000e+00\n",
            "  1.60000000e+01 3.20000000e+01 6.40000000e+01 1.28000000e+02]\n",
            " [2.56000000e+02 5.12000000e+02 1.02400000e+03 2.04800000e+03\n",
            "  4.09600000e+03 8.19200000e+03 1.63840000e+04 3.27680000e+04]\n",
            " [6.55360000e+04 1.31072000e+05 2.62144000e+05 5.24288000e+05\n",
            "  1.04857600e+06 2.09715200e+06 4.19430400e+06 8.38860800e+06]\n",
            " [1.67772160e+07 3.35544320e+07 6.71088640e+07 1.34217728e+08\n",
            "  2.68435456e+08 5.36870912e+08 1.07374182e+09 2.14748365e+09]\n",
            " [4.29496730e+09 8.58993459e+09 1.71798692e+10 3.43597384e+10\n",
            "  6.87194767e+10 1.37438953e+11 2.74877907e+11 5.49755814e+11]\n",
            " [1.09951163e+12 2.19902326e+12 4.39804651e+12 8.79609302e+12\n",
            "  1.75921860e+13 3.51843721e+13 7.03687442e+13 1.40737488e+14]\n",
            " [2.81474977e+14 5.62949953e+14 1.12589991e+15 2.25179981e+15\n",
            "  4.50359963e+15 9.00719925e+15 1.80143985e+16 3.60287970e+16]\n",
            " [7.20575940e+16 1.44115188e+17 2.88230376e+17 5.76460752e+17\n",
            "  1.15292150e+18 2.30584301e+18 4.61168602e+18 9.22337204e+18]]\n",
            "The second half is 4294967296.0 times greater than the first half.\n"
          ]
        }
      ]
    },
    {
      "cell_type": "markdown",
      "source": [
        "Problem 6"
      ],
      "metadata": {
        "id": "34GrSFPOyS6o"
      }
    },
    {
      "cell_type": "code",
      "source": [
        "import numpy as np\n",
        "\n",
        "def calculate_wheat_append(n, m):\n",
        "    total_squares = n*m\n",
        "    board_list = np.array([1])\n",
        "\n",
        "    for _ in range(total_squares - 1):\n",
        "        next_square = 2 * board_list[-1]\n",
        "        board_list = np.append(board_list, next_square)\n",
        "\n",
        "    board_ndarray = board_list.reshape(n,m)\n",
        "    return board_ndarray\n",
        "\n",
        "def calculate_wheat_broadcast(n, m):\n",
        "    indices = np.arange(n * m)\n",
        "    powers_of_two = 2 ** indices\n",
        "\n",
        "    board_ndarray = powers_of_two.reshape(n, m)\n",
        "    return board_ndarray\n",
        "\n",
        "result_board_append = calculate_wheat_append(8, 8)\n",
        "result_board_broadcast = calculate_wheat_broadcast(8, 8)\n",
        "\n",
        "print(\"Arrange wheat on an 8x8 chessboard using np.append():\\n\", result_board_append)\n",
        "print(\"\\nArrange wheat on an 8x8 chessboard using broadcast:\\n\", result_board_broadcast)"
      ],
      "metadata": {
        "id": "_xSxg7nBumxL",
        "colab": {
          "base_uri": "https://localhost:8080/"
        },
        "outputId": "52683744-4faa-45b7-81ef-a2c17cf7f4e2"
      },
      "execution_count": null,
      "outputs": [
        {
          "output_type": "stream",
          "name": "stdout",
          "text": [
            "Arrange wheat on an 8x8 chessboard using np.append():\n",
            " [[                   1                    2                    4\n",
            "                     8                   16                   32\n",
            "                    64                  128]\n",
            " [                 256                  512                 1024\n",
            "                  2048                 4096                 8192\n",
            "                 16384                32768]\n",
            " [               65536               131072               262144\n",
            "                524288              1048576              2097152\n",
            "               4194304              8388608]\n",
            " [            16777216             33554432             67108864\n",
            "             134217728            268435456            536870912\n",
            "            1073741824           2147483648]\n",
            " [          4294967296           8589934592          17179869184\n",
            "           34359738368          68719476736         137438953472\n",
            "          274877906944         549755813888]\n",
            " [       1099511627776        2199023255552        4398046511104\n",
            "         8796093022208       17592186044416       35184372088832\n",
            "        70368744177664      140737488355328]\n",
            " [     281474976710656      562949953421312     1125899906842624\n",
            "      2251799813685248     4503599627370496     9007199254740992\n",
            "     18014398509481984    36028797018963968]\n",
            " [   72057594037927936   144115188075855872   288230376151711744\n",
            "    576460752303423488  1152921504606846976  2305843009213693952\n",
            "   4611686018427387904 -9223372036854775808]]\n",
            "\n",
            "Arrange wheat on an 8x8 chessboard using broadcast:\n",
            " [[                   1                    2                    4\n",
            "                     8                   16                   32\n",
            "                    64                  128]\n",
            " [                 256                  512                 1024\n",
            "                  2048                 4096                 8192\n",
            "                 16384                32768]\n",
            " [               65536               131072               262144\n",
            "                524288              1048576              2097152\n",
            "               4194304              8388608]\n",
            " [            16777216             33554432             67108864\n",
            "             134217728            268435456            536870912\n",
            "            1073741824           2147483648]\n",
            " [          4294967296           8589934592          17179869184\n",
            "           34359738368          68719476736         137438953472\n",
            "          274877906944         549755813888]\n",
            " [       1099511627776        2199023255552        4398046511104\n",
            "         8796093022208       17592186044416       35184372088832\n",
            "        70368744177664      140737488355328]\n",
            " [     281474976710656      562949953421312     1125899906842624\n",
            "      2251799813685248     4503599627370496     9007199254740992\n",
            "     18014398509481984    36028797018963968]\n",
            " [   72057594037927936   144115188075855872   288230376151711744\n",
            "    576460752303423488  1152921504606846976  2305843009213693952\n",
            "   4611686018427387904 -9223372036854775808]]\n"
          ]
        },
        {
          "output_type": "stream",
          "name": "stderr",
          "text": [
            "<ipython-input-10-0bfea82a0618>:8: RuntimeWarning: overflow encountered in long_scalars\n",
            "  next_square = 2 * board_list[-1]\n"
          ]
        }
      ]
    },
    {
      "cell_type": "markdown",
      "source": [
        "Problem 7"
      ],
      "metadata": {
        "id": "Ge40a6Nu0FRr"
      }
    },
    {
      "cell_type": "code",
      "source": [
        "import numpy as np\n",
        "\n",
        "def calculate_wheat_append(n, m):\n",
        "    total_squares = n * m\n",
        "    board_list = np.array([1])\n",
        "\n",
        "    for _ in range(total_squares - 1):\n",
        "        next_square = 2 * board_list[-1]\n",
        "        board_list = np.append(board_list, next_square)\n",
        "\n",
        "    board_ndarray = board_list.reshape(n, m)\n",
        "    return board_ndarray\n",
        "\n",
        "\n",
        "def calculate_wheat_broadcast(n, m):\n",
        "    indices = np.arange(n * m)\n",
        "    powers_of_two = 2 ** indices\n",
        "\n",
        "    board_ndarray = powers_of_two.reshape(n, m)\n",
        "    return board_ndarray\n",
        "\n",
        "\n",
        "def calculate_wheat_list(n, m):\n",
        "    total_squares = n * m\n",
        "    board_list = [1]\n",
        "\n",
        "    for _ in range(total_squares - 1):\n",
        "        next_square = 2 * board_list[-1]\n",
        "        board_list.append(next_square)\n",
        "\n",
        "    board_ndarray = np.array(board_list).reshape(n, m)\n",
        "    return board_ndarray\n",
        "\n",
        "\n",
        "result_append = %timeit -o calculate_wheat_append(8, 8)\n",
        "result_broadcast = %timeit -o calculate_wheat_broadcast(8, 8)\n",
        "result_list = %timeit -o calculate_wheat_list(8, 8)\n",
        "\n",
        "\n",
        "print(\"\\nExecution Time for np.append():\", result_append)\n",
        "print(\"Execution Time for broadcast:\", result_broadcast)\n",
        "print(\"Execution Time for list and loop:\", result_list)\n"
      ],
      "metadata": {
        "colab": {
          "base_uri": "https://localhost:8080/"
        },
        "id": "quHf0F_zyVkQ",
        "outputId": "a410a478-ffab-468e-84f3-2744b17eb536"
      },
      "execution_count": null,
      "outputs": [
        {
          "output_type": "stream",
          "name": "stderr",
          "text": [
            "<ipython-input-13-f54b58bf2e7b>:8: RuntimeWarning: overflow encountered in long_scalars\n",
            "  next_square = 2 * board_list[-1]\n"
          ]
        },
        {
          "output_type": "stream",
          "name": "stdout",
          "text": [
            "534 µs ± 145 µs per loop (mean ± std. dev. of 7 runs, 1000 loops each)\n",
            "3.9 µs ± 331 ns per loop (mean ± std. dev. of 7 runs, 100000 loops each)\n",
            "20 µs ± 4 µs per loop (mean ± std. dev. of 7 runs, 100000 loops each)\n",
            "\n",
            "Execution Time for np.append(): 534 µs ± 145 µs per loop (mean ± std. dev. of 7 runs, 1000 loops each)\n",
            "Execution Time for broadcast: 3.9 µs ± 331 ns per loop (mean ± std. dev. of 7 runs, 100000 loops each)\n",
            "Execution Time for list and loop: 20 µs ± 4 µs per loop (mean ± std. dev. of 7 runs, 100000 loops each)\n"
          ]
        }
      ]
    }
  ]
}
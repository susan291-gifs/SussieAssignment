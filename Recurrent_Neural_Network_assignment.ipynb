{
  "nbformat": 4,
  "nbformat_minor": 0,
  "metadata": {
    "colab": {
      "provenance": [],
      "include_colab_link": true
    },
    "kernelspec": {
      "name": "python3",
      "display_name": "Python 3"
    },
    "language_info": {
      "name": "python"
    }
  },
  "cells": [
    {
      "cell_type": "markdown",
      "metadata": {
        "id": "view-in-github",
        "colab_type": "text"
      },
      "source": [
        "<a href=\"https://colab.research.google.com/github/susan291-gifs/SussieAssignment/blob/main/Recurrent_Neural_Network_assignment.ipynb\" target=\"_parent\"><img src=\"https://colab.research.google.com/assets/colab-badge.svg\" alt=\"Open In Colab\"/></a>"
      ]
    },
    {
      "cell_type": "code",
      "source": [
        "import numpy as np"
      ],
      "metadata": {
        "id": "kBZ1KSVStyNu"
      },
      "execution_count": null,
      "outputs": []
    },
    {
      "cell_type": "markdown",
      "source": [
        "###Problem 1"
      ],
      "metadata": {
        "id": "s-5Qk1bit1x1"
      }
    },
    {
      "cell_type": "code",
      "execution_count": null,
      "metadata": {
        "colab": {
          "base_uri": "https://localhost:8080/"
        },
        "id": "JBddIq-WtokR",
        "outputId": "37ce736d-5ea2-4b16-c73b-cae055eb664d"
      },
      "outputs": [
        {
          "output_type": "stream",
          "name": "stdout",
          "text": [
            "Output shape: (8, 10, 3)\n",
            "Output: [[[0.04033645 0.28279836 0.6768652 ]\n",
            "  [0.56633434 0.30114809 0.13251756]\n",
            "  [0.11645023 0.2964247  0.58712507]\n",
            "  [0.04350267 0.214265   0.74223233]\n",
            "  [0.10644463 0.39092614 0.50262922]\n",
            "  [0.64706324 0.19050295 0.16243382]\n",
            "  [0.76572129 0.21152257 0.02275614]\n",
            "  [0.03300119 0.07316484 0.89383398]\n",
            "  [0.03140196 0.22645793 0.74214011]\n",
            "  [0.13016994 0.58680999 0.28302007]]\n",
            "\n",
            " [[0.93301039 0.03121103 0.03577858]\n",
            "  [0.63374614 0.2336149  0.13263896]\n",
            "  [0.90522881 0.07166797 0.02310322]\n",
            "  [0.86364632 0.06575413 0.07059955]\n",
            "  [0.93603377 0.04637995 0.01758628]\n",
            "  [0.73037816 0.19836454 0.07125729]\n",
            "  [0.61590908 0.22345037 0.16064055]\n",
            "  [0.06662899 0.13825948 0.79511153]\n",
            "  [0.86763348 0.07993357 0.05243296]\n",
            "  [0.20691054 0.17532395 0.61776551]]\n",
            "\n",
            " [[0.69878945 0.21497727 0.08623328]\n",
            "  [0.52504015 0.14364724 0.33131261]\n",
            "  [0.8927139  0.0794151  0.02787101]\n",
            "  [0.85611288 0.10480815 0.03907897]\n",
            "  [0.93587766 0.03574412 0.02837821]\n",
            "  [0.71314222 0.23926227 0.04759551]\n",
            "  [0.67730291 0.28463838 0.03805871]\n",
            "  [0.24410551 0.15058326 0.60531123]\n",
            "  [0.64852068 0.23397452 0.1175048 ]\n",
            "  [0.10937388 0.31622952 0.57439661]]\n",
            "\n",
            " [[0.93040157 0.03693684 0.03266158]\n",
            "  [0.01365936 0.34054958 0.64579106]\n",
            "  [0.23900136 0.71252663 0.04847201]\n",
            "  [0.02648263 0.14919493 0.82432244]\n",
            "  [0.47890989 0.45684609 0.06424402]\n",
            "  [0.05686958 0.16541222 0.77771819]\n",
            "  [0.6351117  0.31882934 0.04605896]\n",
            "  [0.47057854 0.12526103 0.40416043]\n",
            "  [0.68520512 0.21338097 0.10141391]\n",
            "  [0.77295993 0.19009194 0.03694813]]\n",
            "\n",
            " [[0.61869926 0.27445701 0.10684373]\n",
            "  [0.11693922 0.30402603 0.57903476]\n",
            "  [0.06780188 0.05825735 0.87394076]\n",
            "  [0.04883563 0.69551648 0.25564789]\n",
            "  [0.07974088 0.05919008 0.86106904]\n",
            "  [0.30241901 0.67006538 0.02751561]\n",
            "  [0.03060648 0.06950887 0.89988465]\n",
            "  [0.84613744 0.113023   0.04083956]\n",
            "  [0.75124995 0.07404284 0.17470721]\n",
            "  [0.02651665 0.10161084 0.87187251]]\n",
            "\n",
            " [[0.6867473  0.27566148 0.03759121]\n",
            "  [0.09385714 0.25761598 0.64852687]\n",
            "  [0.01137462 0.33217336 0.65645202]\n",
            "  [0.03052565 0.2953331  0.67414125]\n",
            "  [0.09978021 0.20070021 0.69951957]\n",
            "  [0.62526791 0.24505826 0.12967383]\n",
            "  [0.94483243 0.03828898 0.01687859]\n",
            "  [0.04097268 0.16917512 0.7898522 ]\n",
            "  [0.58643584 0.33669006 0.07687409]\n",
            "  [0.02333705 0.18431341 0.79234954]]\n",
            "\n",
            " [[0.73778871 0.08245306 0.17975823]\n",
            "  [0.01490423 0.55441998 0.43067579]\n",
            "  [0.46350789 0.49599201 0.0405001 ]\n",
            "  [0.08725744 0.03674145 0.87600111]\n",
            "  [0.75246958 0.2104406  0.03708982]\n",
            "  [0.06560582 0.05118407 0.88321011]\n",
            "  [0.20180739 0.74187758 0.05631503]\n",
            "  [0.08075677 0.09656033 0.82268289]\n",
            "  [0.83445766 0.13004769 0.03549465]\n",
            "  [0.06135234 0.05198872 0.88665893]]\n",
            "\n",
            " [[0.12058601 0.27772804 0.60168594]\n",
            "  [0.62437169 0.17015446 0.20547385]\n",
            "  [0.83212588 0.14561967 0.02225445]\n",
            "  [0.07009243 0.20394145 0.72596613]\n",
            "  [0.75255796 0.22431365 0.02312838]\n",
            "  [0.25602744 0.11162734 0.63234522]\n",
            "  [0.19594508 0.63043593 0.17361899]\n",
            "  [0.1080707  0.30336512 0.58856418]\n",
            "  [0.59690665 0.26077954 0.14231381]\n",
            "  [0.12699391 0.31502648 0.55797961]]]\n"
          ]
        }
      ],
      "source": [
        "class ScratchSimpleRNNClassifier:\n",
        "    def __init__(self, n_features, n_nodes, n_output, n_sequences, lr=0.01, random_state=None):\n",
        "        np.random.seed(random_state)\n",
        "        self.n_features = n_features\n",
        "        self.n_nodes = n_nodes\n",
        "        self.n_output = n_output\n",
        "        self.n_sequences = n_sequences\n",
        "        self.lr = lr\n",
        "\n",
        "        self.Wx = np.random.randn(n_features, n_nodes)\n",
        "        self.Wh = np.random.randn(n_nodes, n_nodes)\n",
        "        self.B = np.zeros(n_nodes)\n",
        "        self.Wout = np.random.randn(n_nodes, n_output)\n",
        "        self.Bout = np.zeros(n_output)\n",
        "\n",
        "    def forward(self, X):\n",
        "        batch_size, n_sequences, n_features = X.shape\n",
        "        self.h = np.zeros((batch_size, self.n_nodes))\n",
        "        self.hs = np.zeros((batch_size, n_sequences, self.n_nodes))\n",
        "        self.ys = np.zeros((batch_size, n_sequences, self.n_output))\n",
        "\n",
        "        for t in range(n_sequences):\n",
        "            xt = X[:, t, :]\n",
        "            at = np.dot(xt, self.Wx) + np.dot(self.h, self.Wh) + self.B\n",
        "            self.h = np.tanh(at)\n",
        "            self.hs[:, t, :] = self.h\n",
        "            self.ys[:, t, :] = self.softmax(np.dot(self.h, self.Wout) + self.Bout)\n",
        "\n",
        "        return self.ys\n",
        "\n",
        "    def softmax(self, x):\n",
        "        exp_x = np.exp(x - np.max(x, axis=1, keepdims=True))\n",
        "        return exp_x / np.sum(exp_x, axis=1, keepdims=True)\n",
        "\n",
        "    def fit(self, X, y, epochs=10):\n",
        "        for epoch in range(epochs):\n",
        "            output = self.forward(X)\n",
        "\n",
        "            pass\n",
        "\n",
        "    def predict(self, X):\n",
        "        output = self.forward(X)\n",
        "        return np.argmax(output[:, -1, :], axis=1)\n",
        "\n",
        "n_features = 4\n",
        "n_nodes = 5\n",
        "n_output = 3\n",
        "n_sequences = 10\n",
        "batch_size = 8\n",
        "\n",
        "X = np.random.randn(batch_size, n_sequences, n_features)\n",
        "y = np.random.randint(0, 3, (batch_size, n_sequences, n_output))\n",
        "\n",
        "model = ScratchSimpleRNNClassifier(n_features, n_nodes, n_output, n_sequences)\n",
        "output = model.forward(X)\n",
        "\n",
        "print(\"Output shape:\", output.shape)\n",
        "print(\"Output:\", output)\n"
      ]
    },
    {
      "cell_type": "markdown",
      "source": [
        "###Problem 2"
      ],
      "metadata": {
        "id": "OQrwDl95ukq4"
      }
    },
    {
      "cell_type": "code",
      "source": [
        "x = np.array([[[1, 2], [2, 3], [3, 4]]]) / 100\n",
        "w_x = np.array([[1, 3, 5, 7], [3, 5, 7, 8]]) / 100\n",
        "w_h = np.array([[1, 3, 5, 7], [2, 4, 6, 8], [3, 5, 7, 8], [4, 6, 8, 10]]) / 100\n",
        "b = np.array([1, 1, 1, 1])\n",
        "\n",
        "batch_size = x.shape[0]\n",
        "n_sequences = x.shape[1]\n",
        "n_features = x.shape[2]\n",
        "n_nodes = w_x.shape[1]\n",
        "\n",
        "h = np.zeros((batch_size, n_nodes))\n",
        "\n",
        "for t in range(n_sequences):\n",
        "    xt = x[:, t, :]\n",
        "    at = np.dot(xt, w_x) + np.dot(h, w_h) + b\n",
        "    h = np.tanh(at)\n",
        "\n",
        "print(\"Final hidden state h:\", h)"
      ],
      "metadata": {
        "colab": {
          "base_uri": "https://localhost:8080/"
        },
        "id": "iKt4DC_Vui2F",
        "outputId": "98833f0a-46cf-4835-b90e-a999d573c48a"
      },
      "execution_count": null,
      "outputs": [
        {
          "output_type": "stream",
          "name": "stdout",
          "text": [
            "Final hidden state h: [[0.79494228 0.81839002 0.83939649 0.85584174]]\n"
          ]
        }
      ]
    },
    {
      "cell_type": "markdown",
      "source": [
        "###Problem 3"
      ],
      "metadata": {
        "id": "bwN0TzrvvJcu"
      }
    },
    {
      "cell_type": "code",
      "source": [
        "class ScratchSimpleRNNClassifier:\n",
        "    def __init__(self, n_features, n_nodes, n_outputs, lr=0.01):\n",
        "        self.n_features = n_features\n",
        "        self.n_nodes = n_nodes\n",
        "        self.n_outputs = n_outputs\n",
        "        self.lr = lr\n",
        "\n",
        "        self.W_x = np.random.randn(n_features, n_nodes)\n",
        "        self.W_h = np.random.randn(n_nodes, n_nodes)\n",
        "        self.b = np.zeros(n_nodes)\n",
        "        self.W_y = np.random.randn(n_nodes, n_outputs)\n",
        "        self.b_y = np.zeros(n_outputs)\n",
        "\n",
        "    def forward(self, x):\n",
        "        self.batch_size, self.n_sequences, self.n_features = x.shape\n",
        "        self.h = np.zeros((self.batch_size, self.n_sequences + 1, self.n_nodes))\n",
        "\n",
        "        for t in range(self.n_sequences):\n",
        "            self.h[:, t + 1, :] = np.tanh(np.dot(x[:, t, :], self.W_x) + np.dot(self.h[:, t, :], self.W_h) + self.b)\n",
        "\n",
        "        y = np.dot(self.h[:, -1, :], self.W_y) + self.b_y\n",
        "        return y\n",
        "\n",
        "    def backward(self, x, y_true, y_pred):\n",
        "        dW_x = np.zeros_like(self.W_x)\n",
        "        dW_h = np.zeros_like(self.W_h)\n",
        "        db = np.zeros_like(self.b)\n",
        "        dW_y = np.zeros_like(self.W_y)\n",
        "        db_y = np.zeros_like(self.b_y)\n",
        "\n",
        "        dy = y_pred - y_true\n",
        "\n",
        "        dW_y = np.dot(self.h[:, -1, :].T, dy) / self.batch_size\n",
        "        db_y = np.sum(dy, axis=0) / self.batch_size\n",
        "\n",
        "        dh = np.dot(dy, self.W_y.T)\n",
        "\n",
        "        for t in reversed(range(self.n_sequences)):\n",
        "            da = dh * (1 - self.h[:, t + 1, :] ** 2)\n",
        "            dW_x += np.dot(x[:, t, :].T, da) / self.batch_size\n",
        "            dW_h += np.dot(self.h[:, t, :].T, da) / self.batch_size\n",
        "            db += np.sum(da, axis=0) / self.batch_size\n",
        "\n",
        "            dh = np.dot(da, self.W_h.T)\n",
        "\n",
        "        self.W_x -= self.lr * dW_x\n",
        "        self.W_h -= self.lr * dW_h\n",
        "        self.b -= self.lr * db\n",
        "        self.W_y -= self.lr * dW_y\n",
        "        self.b_y -= self.lr * db_y\n",
        "\n",
        "    def fit(self, X, y, epochs=10):\n",
        "        for epoch in range(epochs):\n",
        "            y_pred = self.forward(X)\n",
        "            self.backward(X, y, y_pred)\n",
        "            loss = np.mean((y_pred - y) ** 2)\n",
        "            print(f'Epoch {epoch + 1}/{epochs}, Loss: {loss:.4f}')\n",
        "\n",
        "    def predict(self, X):\n",
        "        y_pred = self.forward(X)\n",
        "        return y_pred\n",
        "\n",
        "\n",
        "x = np.array([[[1, 2], [2, 3], [3, 4]]]) / 100\n",
        "y_true = np.array([[0.5]])\n",
        "\n",
        "model = ScratchSimpleRNNClassifier(n_features=2, n_nodes=4, n_outputs=1, lr=0.01)\n",
        "model.fit(x, y_true, epochs=10)\n",
        "\n",
        "y_pred = model.predict(x)\n",
        "print(\"Predicted output:\", y_pred)"
      ],
      "metadata": {
        "colab": {
          "base_uri": "https://localhost:8080/"
        },
        "id": "nvCcZonGvGsU",
        "outputId": "c4a6c462-2721-46fd-dfe3-06619c845728"
      },
      "execution_count": null,
      "outputs": [
        {
          "output_type": "stream",
          "name": "stdout",
          "text": [
            "Epoch 1/10, Loss: 0.0710\n",
            "Epoch 2/10, Loss: 0.0047\n",
            "Epoch 3/10, Loss: 0.0004\n",
            "Epoch 4/10, Loss: 0.0000\n",
            "Epoch 5/10, Loss: 0.0000\n",
            "Epoch 6/10, Loss: 0.0000\n",
            "Epoch 7/10, Loss: 0.0000\n",
            "Epoch 8/10, Loss: 0.0000\n",
            "Epoch 9/10, Loss: 0.0000\n",
            "Epoch 10/10, Loss: 0.0000\n",
            "Predicted output: [[0.49999884]]\n"
          ]
        }
      ]
    }
  ]
}
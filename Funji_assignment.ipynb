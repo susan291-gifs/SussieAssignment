{
  "nbformat": 4,
  "nbformat_minor": 0,
  "metadata": {
    "colab": {
      "provenance": [],
      "include_colab_link": true
    },
    "kernelspec": {
      "name": "python3",
      "display_name": "Python 3"
    },
    "language_info": {
      "name": "python"
    }
  },
  "cells": [
    {
      "cell_type": "markdown",
      "metadata": {
        "id": "view-in-github",
        "colab_type": "text"
      },
      "source": [
        "<a href=\"https://colab.research.google.com/github/susan291-gifs/SussieAssignment/blob/main/Funji_assignment.ipynb\" target=\"_parent\"><img src=\"https://colab.research.google.com/assets/colab-badge.svg\" alt=\"Open In Colab\"/></a>"
      ]
    },
    {
      "cell_type": "markdown",
      "source": [
        "Problem 1"
      ],
      "metadata": {
        "id": "gR-xYPyyyMlq"
      }
    },
    {
      "cell_type": "code",
      "execution_count": null,
      "metadata": {
        "colab": {
          "base_uri": "https://localhost:8080/"
        },
        "id": "lXMB1mg2O1QQ",
        "outputId": "2e387a1a-1886-442c-83ac-9d9626144979"
      },
      "outputs": [
        {
          "output_type": "stream",
          "name": "stdout",
          "text": [
            "Exceed the Mt Fuji at 2th fold\n",
            "Exceed the Mt Fuji at 3th fold\n",
            "Exceed the Mt Fuji at 4th fold\n",
            "Exceed the Mt Fuji at 5th fold\n",
            "Exceed the Mt Fuji at 6th fold\n",
            "Exceed the Mt Fuji at 7th fold\n",
            "Exceed the Mt Fuji at 8th fold\n",
            "Exceed the Mt Fuji at 9th fold\n",
            "Exceed the Mt Fuji at 10th fold\n",
            "Exceed the Mt Fuji at 11th fold\n",
            "Exceed the Mt Fuji at 12th fold\n",
            "Exceed the Mt Fuji at 13th fold\n",
            "Exceed the Mt Fuji at 14th fold\n",
            "Exceed the Mt Fuji at 15th fold\n",
            "Exceed the Mt Fuji at 16th fold\n",
            "Exceed the Mt Fuji at 17th fold\n",
            "Exceed the Mt Fuji at 18th fold\n",
            "Exceed the Mt Fuji at 19th fold\n",
            "Exceed the Mt Fuji at 20th fold\n",
            "Exceed the Mt Fuji at 21th fold\n",
            "Exceed the Mt Fuji at 22th fold\n",
            "Exceed the Mt Fuji at 23th fold\n",
            "Exceed the Mt Fuji at 24th fold\n",
            "Exceed the Mt Fuji at 25th fold\n",
            "Exceed the Mt Fuji at 26th fold\n",
            "Exceed the Mt Fuji at 27th fold\n"
          ]
        }
      ],
      "source": [
        "THICKNESS = 0.00008\n",
        "MtFuji = 3776\n",
        "folded_times = 1\n",
        "current_thickness = 0\n",
        "while(current_thickness < MtFuji):\n",
        "  current_thickness = THICKNESS*(2**folded_times)\n",
        "  folded_times +=1\n",
        "  print(\"Exceed the Mt Fuji at {}th fold\".format(folded_times))"
      ]
    },
    {
      "cell_type": "markdown",
      "source": [
        "Problem 2"
      ],
      "metadata": {
        "id": "H4zkh0JdGIYh"
      }
    },
    {
      "cell_type": "code",
      "source": [
        "Nearest_Non_Sun_Star = 4.4\n",
        "Light_Year = 9.5\n",
        "Distance = (9.5 * 4.4)*1000000000000\n",
        "\n",
        "def Calculate_distance_fold (Distance):\n",
        "\n",
        "  folded_times1 = 1\n",
        "  current_thickness1 = 0\n",
        "\n",
        "  while((current_thickness1//100) < Distance):\n",
        "    current_thickness1 = THICKNESS*(2**folded_times1)\n",
        "    folded_times1 +=1\n",
        "\n",
        "  return folded_times1\n",
        "\n",
        "print(\"reach the closest non sun star on the {}th\".format(Calculate_distance_fold(Distance)))"
      ],
      "metadata": {
        "colab": {
          "base_uri": "https://localhost:8080/"
        },
        "id": "fvMa3RtBzMdk",
        "outputId": "865c09e6-f987-418e-fa5a-9e425887b98a"
      },
      "execution_count": null,
      "outputs": [
        {
          "output_type": "stream",
          "name": "stdout",
          "text": [
            "reach the closest non sun star on the 67th\n"
          ]
        }
      ]
    },
    {
      "cell_type": "markdown",
      "source": [
        "Problem 3"
      ],
      "metadata": {
        "id": "lDBCQy2fKGxO"
      }
    },
    {
      "cell_type": "code",
      "source": [
        "def calculate_number_lenght_from_fold(folds):\n",
        "  THICKNESS2 = 0.00008\n",
        "  lenght = (THICKNESS2/6)*((2**folds)+4)*(2**folds-1)\n",
        "  return lenght\n",
        "\n",
        "distance_to_the_moon = 384400*1000\n",
        "\n",
        "print(\"the lenght of paper to be folded to reach the moon is {}m\".format(calculate_number_lenght_from_fold(Calculate_distance_fold(distance_to_the_moon))))\n",
        "print(\"the lenght of paper to be folded to reach the mt funji is {}m\".format(calculate_number_lenght_from_fold(Calculate_distance_fold(MtFuji))))\n",
        "print(\"the lenght of paper to be folded to reach the non sun star is {}m\".format(calculate_number_lenght_from_fold(Calculate_distance_fold(Distance))))"
      ],
      "metadata": {
        "colab": {
          "base_uri": "https://localhost:8080/"
        },
        "id": "YX9zzBbpGLtc",
        "outputId": "ffaba12f-9b2f-473e-c76f-490fa4db7631"
      },
      "execution_count": null,
      "outputs": [
        {
          "output_type": "stream",
          "name": "stdout",
          "text": [
            "the lenght of paper to be folded to reach the moon is 1.6902008003043106e+25m\n",
            "the lenght of paper to be folded to reach the mt funji is 3935305403078566.0m\n",
            "the lenght of paper to be folded to reach the non sun star is 2.9037428643920086e+35m\n"
          ]
        }
      ]
    }
  ]
}